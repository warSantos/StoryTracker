{
 "metadata": {
  "language_info": {
   "codemirror_mode": {
    "name": "ipython",
    "version": 3
   },
   "file_extension": ".py",
   "mimetype": "text/x-python",
   "name": "python",
   "nbconvert_exporter": "python",
   "pygments_lexer": "ipython3",
   "version": "3.8.3-final"
  },
  "orig_nbformat": 2,
  "kernelspec": {
   "name": "Python 3.8.3 64-bit ('env': venv)",
   "display_name": "Python 3.8.3 64-bit ('env': venv)",
   "metadata": {
    "interpreter": {
     "hash": "bcba1b8cf00d78a1a8555a432e03d91e293895ab4093de873ee571d807ac6ff7"
    }
   }
  }
 },
 "nbformat": 4,
 "nbformat_minor": 2,
 "cells": [
  {
   "cell_type": "code",
   "execution_count": 2,
   "metadata": {},
   "outputs": [],
   "source": [
    "import pandas as pd\n",
    "import spacy\n",
    "from pprint import pprint"
   ]
  },
  {
   "cell_type": "code",
   "execution_count": 3,
   "metadata": {},
   "outputs": [],
   "source": [
    "nlp = spacy.load('pt_core_news_md')\n",
    "df = pd.read_csv('../dados/articles_limpo.csv')"
   ]
  },
  {
   "cell_type": "code",
   "execution_count": 9,
   "metadata": {
    "tags": []
   },
   "outputs": [],
   "source": [
    "import json\n",
    "classes = {\n",
    "    'PER',\n",
    "    'ORG',\n",
    "    'GPE',\n",
    "    'LOC',\n",
    "    'FAC',\n",
    "    'NORP',\n",
    "    'EVENT'\n",
    "}\n",
    "\n",
    "lista_docs = []\n",
    "entidades = {}\n",
    "\n",
    "doc_id = 0\n",
    "# Extração de nomes de entidades.\n",
    "#for tupla in df.head(100).itertuples(index=False):\n",
    "for tupla in df.itertuples(index=False):\n",
    "    doc = nlp(tupla.text)\n",
    "    ents_doc = {}\n",
    "    # Para toda entidade no documento.\n",
    "    for ent in doc.ents:\n",
    "        nome_ent = ent.text.lower()\n",
    "        ## Reunindo as entidades por documentos.\n",
    "        # Se a entidade pertencer a alguma das classes de interesse.\n",
    "        if ent.label_ in classes:\n",
    "            if nome_ent not in ents_doc:\n",
    "                ents_doc[nome_ent] = [ent.label_, 0]\n",
    "            ents_doc[nome_ent][1] += 1\n",
    "        ## Agrupando os documentos e suas frequências pelas entidades.\n",
    "        if nome_ent not in entidades:\n",
    "            entidades[nome_ent] = {}\n",
    "        if doc_id not in entidades[nome_ent]:\n",
    "            entidades[nome_ent][doc_id] = 0\n",
    "        entidades[nome_ent][doc_id] += 1\n",
    "    # Adicionando o documento a lista.\n",
    "    lista_docs.append([doc_id, tupla.date, ents_doc])\n",
    "    doc_id += 1\n",
    "\n",
    "#pt = open('preproc/docs_ents_exemplo.json','w')\n",
    "#json.dump(lista_docs, pt, ensure_ascii=False, indent=4)\n",
    "pt = open('preproc/docs_ents.json','w')\n",
    "json.dump(lista_docs, pt, ensure_ascii=False)\n",
    "pt.close()\n",
    "\n",
    "#pt = open('preproc/entidades_exemplo.json','w')\n",
    "#json.dump(entidades, pt, ensure_ascii=False, indent=4)\n",
    "pt = open('preproc/entidades.json','w')\n",
    "json.dump(entidades, pt, ensure_ascii=False)\n",
    "pt.close()\n"
   ]
  },
  {
   "cell_type": "code",
   "execution_count": null,
   "metadata": {},
   "outputs": [],
   "source": []
  }
 ]
}