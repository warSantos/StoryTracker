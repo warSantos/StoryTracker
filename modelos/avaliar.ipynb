{
 "metadata": {
  "language_info": {
   "codemirror_mode": {
    "name": "ipython",
    "version": 3
   },
   "file_extension": ".py",
   "mimetype": "text/x-python",
   "name": "python",
   "nbconvert_exporter": "python",
   "pygments_lexer": "ipython3",
   "version": "3.8.3-final"
  },
  "orig_nbformat": 2,
  "kernelspec": {
   "name": "Python 3.8.3 64-bit ('env': venv)",
   "display_name": "Python 3.8.3 64-bit ('env': venv)",
   "metadata": {
    "interpreter": {
     "hash": "bcba1b8cf00d78a1a8555a432e03d91e293895ab4093de873ee571d807ac6ff7"
    }
   }
  }
 },
 "nbformat": 4,
 "nbformat_minor": 2,
 "cells": [
  {
   "cell_type": "code",
   "execution_count": 15,
   "metadata": {},
   "outputs": [
    {
     "output_type": "stream",
     "name": "stdout",
     "text": [
      "RandomForestClassifier 0.36201924824760007\nGaussianNB nan\nKNeighborsClassifier 0.623406226941228\nAdaBoostClassifier 0.809482819630431\nLinearSVC 0.9114416826105995\nLogisticRegression 0.912786875874947\nMLPClassifier 0.9150993488686673\n"
     ]
    }
   ],
   "source": [
    "import os\n",
    "\n",
    "#base_logs = 'd2v_clfs/'\n",
    "base_logs = 'tf_idf/'\n",
    "prefixo = 'random_'\n",
    "\n",
    "medias = []\n",
    "for arq in os.listdir(base_logs):\n",
    "    if arq.find(prefixo) > -1:\n",
    "        total = 0\n",
    "        pt = open(base_logs+arq)\n",
    "        for score in pt:\n",
    "            total += float(score)\n",
    "        medias.append([arq.split('_')[1].replace('.txt',''), total/30])\n",
    "medias.sort(key=lambda x: x[1])\n",
    "for m in medias:\n",
    "    print(m[0],m[1])"
   ]
  },
  {
   "cell_type": "code",
   "execution_count": null,
   "metadata": {},
   "outputs": [],
   "source": []
  }
 ]
}