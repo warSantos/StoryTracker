{
 "cells": [
  {
   "cell_type": "code",
   "execution_count": 2,
   "metadata": {
    "scrolled": true
   },
   "outputs": [],
   "source": [
    "import pandas as pd\n",
    "from gensim.models import Doc2Vec\n",
    "from gensim.models.doc2vec import TaggedDocument\n",
    "from sys import argv, exit\n",
    "from nltk.corpus import stopwords\n",
    "from nltk.tokenize import RegexpTokenizer"
   ]
  },
  {
   "cell_type": "code",
   "execution_count": 19,
   "metadata": {},
   "outputs": [
    {
     "data": {
      "text/html": [
       "<div>\n",
       "<style scoped>\n",
       "    .dataframe tbody tr th:only-of-type {\n",
       "        vertical-align: middle;\n",
       "    }\n",
       "\n",
       "    .dataframe tbody tr th {\n",
       "        vertical-align: top;\n",
       "    }\n",
       "\n",
       "    .dataframe thead th {\n",
       "        text-align: right;\n",
       "    }\n",
       "</style>\n",
       "<table border=\"1\" class=\"dataframe\">\n",
       "  <thead>\n",
       "    <tr style=\"text-align: right;\">\n",
       "      <th></th>\n",
       "      <th>title</th>\n",
       "      <th>text</th>\n",
       "      <th>date</th>\n",
       "      <th>category</th>\n",
       "      <th>subcategory</th>\n",
       "      <th>link</th>\n",
       "    </tr>\n",
       "  </thead>\n",
       "  <tbody>\n",
       "    <tr>\n",
       "      <th>0</th>\n",
       "      <td>Lula diz que está 'lascado', mas que ainda tem...</td>\n",
       "      <td>Com a possibilidade de uma condenação impedir ...</td>\n",
       "      <td>2017-09-10</td>\n",
       "      <td>poder</td>\n",
       "      <td>NaN</td>\n",
       "      <td>http://www1.folha.uol.com.br/poder/2017/10/192...</td>\n",
       "    </tr>\n",
       "    <tr>\n",
       "      <th>1</th>\n",
       "      <td>'Decidi ser escrava das mulheres que sofrem', ...</td>\n",
       "      <td>Para Oumou Sangaré, cantora e ativista malines...</td>\n",
       "      <td>2017-09-10</td>\n",
       "      <td>ilustrada</td>\n",
       "      <td>NaN</td>\n",
       "      <td>http://www1.folha.uol.com.br/ilustrada/2017/10...</td>\n",
       "    </tr>\n",
       "    <tr>\n",
       "      <th>2</th>\n",
       "      <td>Três reportagens da Folha ganham Prêmio Petrob...</td>\n",
       "      <td>Três reportagens da Folha foram vencedoras do ...</td>\n",
       "      <td>2017-09-10</td>\n",
       "      <td>poder</td>\n",
       "      <td>NaN</td>\n",
       "      <td>http://www1.folha.uol.com.br/poder/2017/10/192...</td>\n",
       "    </tr>\n",
       "    <tr>\n",
       "      <th>3</th>\n",
       "      <td>Filme 'Star Wars: Os Últimos Jedi' ganha trail...</td>\n",
       "      <td>A Disney divulgou na noite desta segunda-feira...</td>\n",
       "      <td>2017-09-10</td>\n",
       "      <td>ilustrada</td>\n",
       "      <td>NaN</td>\n",
       "      <td>http://www1.folha.uol.com.br/ilustrada/2017/10...</td>\n",
       "    </tr>\n",
       "    <tr>\n",
       "      <th>4</th>\n",
       "      <td>CBSS inicia acordos com fintechs e quer 30% do...</td>\n",
       "      <td>O CBSS, banco da holding Elopar dos sócios Bra...</td>\n",
       "      <td>2017-09-10</td>\n",
       "      <td>mercado</td>\n",
       "      <td>NaN</td>\n",
       "      <td>http://www1.folha.uol.com.br/mercado/2017/10/1...</td>\n",
       "    </tr>\n",
       "    <tr>\n",
       "      <th>...</th>\n",
       "      <td>...</td>\n",
       "      <td>...</td>\n",
       "      <td>...</td>\n",
       "      <td>...</td>\n",
       "      <td>...</td>\n",
       "      <td>...</td>\n",
       "    </tr>\n",
       "    <tr>\n",
       "      <th>167048</th>\n",
       "      <td>Em cenário de crise, tucano Beto Richa assume ...</td>\n",
       "      <td>O tucano Beto Richa tinha tudo para começar se...</td>\n",
       "      <td>2015-01-01</td>\n",
       "      <td>poder</td>\n",
       "      <td>NaN</td>\n",
       "      <td>http://www1.folha.uol.com.br/poder/2015/01/156...</td>\n",
       "    </tr>\n",
       "    <tr>\n",
       "      <th>167049</th>\n",
       "      <td>Filho supera senador Renan Calheiros e assume ...</td>\n",
       "      <td>O economista Renan Filho (PMDB) assume nesta q...</td>\n",
       "      <td>2015-01-01</td>\n",
       "      <td>poder</td>\n",
       "      <td>NaN</td>\n",
       "      <td>http://www1.folha.uol.com.br/poder/2015/01/156...</td>\n",
       "    </tr>\n",
       "    <tr>\n",
       "      <th>167050</th>\n",
       "      <td>Hoje na TV: Tottenham x Chelsea, Campeonato In...</td>\n",
       "      <td>Destaques da programação desta quinta-feira (1...</td>\n",
       "      <td>2015-01-01</td>\n",
       "      <td>esporte</td>\n",
       "      <td>NaN</td>\n",
       "      <td>http://www1.folha.uol.com.br/esporte/2015/01/1...</td>\n",
       "    </tr>\n",
       "    <tr>\n",
       "      <th>167051</th>\n",
       "      <td>Kim Jong-un diz estar aberto a se reunir com p...</td>\n",
       "      <td>O líder norte-coreano, Kim Jong-un, disse nest...</td>\n",
       "      <td>2015-01-01</td>\n",
       "      <td>mundo</td>\n",
       "      <td>NaN</td>\n",
       "      <td>http://www1.folha.uol.com.br/mundo/2015/01/156...</td>\n",
       "    </tr>\n",
       "    <tr>\n",
       "      <th>167052</th>\n",
       "      <td>Heitor Maia Neto (1928 - 2014) - Pioneiro da a...</td>\n",
       "      <td>O projeto de que Heitor Maia Neto mais se orgu...</td>\n",
       "      <td>2015-01-01</td>\n",
       "      <td>cotidiano</td>\n",
       "      <td>NaN</td>\n",
       "      <td>http://www1.folha.uol.com.br/cotidiano/2015/01...</td>\n",
       "    </tr>\n",
       "  </tbody>\n",
       "</table>\n",
       "<p>167053 rows × 6 columns</p>\n",
       "</div>"
      ],
      "text/plain": [
       "                                                    title  \\\n",
       "0       Lula diz que está 'lascado', mas que ainda tem...   \n",
       "1       'Decidi ser escrava das mulheres que sofrem', ...   \n",
       "2       Três reportagens da Folha ganham Prêmio Petrob...   \n",
       "3       Filme 'Star Wars: Os Últimos Jedi' ganha trail...   \n",
       "4       CBSS inicia acordos com fintechs e quer 30% do...   \n",
       "...                                                   ...   \n",
       "167048  Em cenário de crise, tucano Beto Richa assume ...   \n",
       "167049  Filho supera senador Renan Calheiros e assume ...   \n",
       "167050  Hoje na TV: Tottenham x Chelsea, Campeonato In...   \n",
       "167051  Kim Jong-un diz estar aberto a se reunir com p...   \n",
       "167052  Heitor Maia Neto (1928 - 2014) - Pioneiro da a...   \n",
       "\n",
       "                                                     text        date  \\\n",
       "0       Com a possibilidade de uma condenação impedir ...  2017-09-10   \n",
       "1       Para Oumou Sangaré, cantora e ativista malines...  2017-09-10   \n",
       "2       Três reportagens da Folha foram vencedoras do ...  2017-09-10   \n",
       "3       A Disney divulgou na noite desta segunda-feira...  2017-09-10   \n",
       "4       O CBSS, banco da holding Elopar dos sócios Bra...  2017-09-10   \n",
       "...                                                   ...         ...   \n",
       "167048  O tucano Beto Richa tinha tudo para começar se...  2015-01-01   \n",
       "167049  O economista Renan Filho (PMDB) assume nesta q...  2015-01-01   \n",
       "167050  Destaques da programação desta quinta-feira (1...  2015-01-01   \n",
       "167051  O líder norte-coreano, Kim Jong-un, disse nest...  2015-01-01   \n",
       "167052  O projeto de que Heitor Maia Neto mais se orgu...  2015-01-01   \n",
       "\n",
       "         category subcategory  \\\n",
       "0           poder         NaN   \n",
       "1       ilustrada         NaN   \n",
       "2           poder         NaN   \n",
       "3       ilustrada         NaN   \n",
       "4         mercado         NaN   \n",
       "...           ...         ...   \n",
       "167048      poder         NaN   \n",
       "167049      poder         NaN   \n",
       "167050    esporte         NaN   \n",
       "167051      mundo         NaN   \n",
       "167052  cotidiano         NaN   \n",
       "\n",
       "                                                     link  \n",
       "0       http://www1.folha.uol.com.br/poder/2017/10/192...  \n",
       "1       http://www1.folha.uol.com.br/ilustrada/2017/10...  \n",
       "2       http://www1.folha.uol.com.br/poder/2017/10/192...  \n",
       "3       http://www1.folha.uol.com.br/ilustrada/2017/10...  \n",
       "4       http://www1.folha.uol.com.br/mercado/2017/10/1...  \n",
       "...                                                   ...  \n",
       "167048  http://www1.folha.uol.com.br/poder/2015/01/156...  \n",
       "167049  http://www1.folha.uol.com.br/poder/2015/01/156...  \n",
       "167050  http://www1.folha.uol.com.br/esporte/2015/01/1...  \n",
       "167051  http://www1.folha.uol.com.br/mundo/2015/01/156...  \n",
       "167052  http://www1.folha.uol.com.br/cotidiano/2015/01...  \n",
       "\n",
       "[167053 rows x 6 columns]"
      ]
     },
     "execution_count": 19,
     "metadata": {},
     "output_type": "execute_result"
    }
   ],
   "source": [
    "df = pd.read_csv('../dados/articles.csv')\n",
    "df"
   ]
  },
  {
   "cell_type": "code",
   "execution_count": 26,
   "metadata": {},
   "outputs": [
    {
     "data": {
      "text/plain": [
       "Index(['title', 'text', 'date', 'category', 'subcategory', 'link'], dtype='object')"
      ]
     },
     "execution_count": 26,
     "metadata": {},
     "output_type": "execute_result"
    }
   ],
   "source": [
    "df.columns"
   ]
  },
  {
   "cell_type": "code",
   "execution_count": 20,
   "metadata": {
    "scrolled": false
   },
   "outputs": [],
   "source": [
    "tokenizer = RegexpTokenizer(r'\\w+')\n",
    "documentos = list()\n",
    "stpw = {}\n",
    "for p in stopwords.words(\"portuguese\"):\n",
    "    stpw[p] = True\n",
    "\n",
    "for index, row in df.iterrows():\n",
    "    doc = list()\n",
    "    for p in tokenizer.tokenize(row['title'].lower()):\n",
    "        if p not in stpw:\n",
    "            doc.append(p)\n",
    "    documentos.append(TaggedDocument(words=doc, tags=['DOC_%s' % index]))"
   ]
  },
  {
   "cell_type": "code",
   "execution_count": 23,
   "metadata": {},
   "outputs": [
    {
     "data": {
      "text/plain": [
       "['fator', 'lula']"
      ]
     },
     "execution_count": 23,
     "metadata": {},
     "output_type": "execute_result"
    }
   ],
   "source": [
    "documentos[934].words"
   ]
  },
  {
   "cell_type": "code",
   "execution_count": 66,
   "metadata": {},
   "outputs": [],
   "source": [
    "modelo = Doc2Vec(vector_size=100, window=10, min_count=3, alpha=0.025, min_alpha=0.025, train_lbls=False, workers=20)\n",
    "modelo.build_vocab(documentos)\n",
    "for epoca in range(10):\n",
    "    modelo.train(documentos, total_examples=modelo.corpus_count, epochs=1)\n",
    "    modelo.alpha -= 0.002\n",
    "    modelo.min_alpha = modelo.alpha\n",
    "\n",
    "modelo.save('modelos/titulos')"
   ]
  },
  {
   "cell_type": "code",
   "execution_count": 5,
   "metadata": {},
   "outputs": [],
   "source": [
    "modelo = Doc2Vec.load('modelos/doc2vec.title')"
   ]
  },
  {
   "cell_type": "code",
   "execution_count": 26,
   "metadata": {},
   "outputs": [
    {
     "data": {
      "text/plain": [
       "array([[0.75255346]], dtype=float32)"
      ]
     },
     "execution_count": 26,
     "metadata": {},
     "output_type": "execute_result"
    }
   ],
   "source": [
    "from sklearn.metrics.pairwise import cosine_similarity\n",
    "#print(modelo.wv.most_similar('DOC', topn=20))\n",
    "#print(modelo.wv.vocab)\n",
    "docv = modelo['DOC_76']\n",
    "sorted(modelo.docvecs.most_similar(positive=[docv], topn=100), key = lambda pos: int(pos[0].split('_')[1]))\n",
    "cosine_similarity([modelo['DOC_934']], [docv])"
   ]
  }
 ],
 "metadata": {
  "kernelspec": {
   "display_name": "Python 3",
   "language": "python",
   "name": "python3"
  },
  "language_info": {
   "codemirror_mode": {
    "name": "ipython",
    "version": 3
   },
   "file_extension": ".py",
   "mimetype": "text/x-python",
   "name": "python",
   "nbconvert_exporter": "python",
   "pygments_lexer": "ipython3",
   "version": "3.7.6"
  }
 },
 "nbformat": 4,
 "nbformat_minor": 4
}
